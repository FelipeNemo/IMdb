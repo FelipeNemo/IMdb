{
 "cells": [
  {
   "cell_type": "markdown",
   "id": "69734368-b2f0-4bd2-9652-8b56e5c742dd",
   "metadata": {},
   "source": [
    "# coletando séries:"
   ]
  },
  {
   "cell_type": "markdown",
   "id": "f83a1713-0035-4bc0-92a0-ef8b485579dc",
   "metadata": {},
   "source": [
    "## Parte 1\n",
    "- Faça scraping para obter os 250 séries com as maiores avaliações do IMDB. Devem ser\n",
    "obtidos: Título, Ano de estreia e encerramento (se existir), Número Total de Episódios,\n",
    "Classificação Indicativa, Nota do IMDB e o link para página da série."
   ]
  },
  {
   "cell_type": "code",
   "execution_count": 72,
   "id": "726fc47b-541e-481f-8564-0b4dc9a14930",
   "metadata": {},
   "outputs": [
    {
     "name": "stdout",
     "output_type": "stream",
     "text": [
      "https://www.imdb.com/pt/chart/toptv/?ref_=hm_nv_menu\n"
     ]
    }
   ],
   "source": [
    "from selenium import webdriver\n",
    "from selenium.webdriver.common.by import By\n",
    "import time\n",
    "\n",
    "driver = webdriver.Chrome()\n",
    "driver.get(\"https://www.imdb.com\")\n",
    "driver.maximize_window()\n",
    "\n",
    "# Abre o menu\n",
    "menu = driver.find_element(By.XPATH, r\"//*[@id='imdbHeader-navDrawerOpen']\")\n",
    "menu.click()\n",
    "\n",
    "# Dá um tempo para o menu abrir e o DOM atualizar\n",
    "time.sleep(1)  \n",
    "\n",
    "# Busca o link de \"As 250 séries mais bem avaliadas\" depois que o menu abriu\n",
    "link_populares = driver.find_element(\n",
    "    By.XPATH, r\"//*[@id='imdbHeader']/div/aside[1]/div/div[2]/div/div[2]/div[1]/span/div/div/ul/a[2]\"\n",
    ")\n",
    "\n",
    "# Pega o href\n",
    "url_series = link_populares.get_attribute(\"href\")\n",
    "print(url_series)\n",
    "\n",
    "# Abrir a página \n",
    "driver.get(url_series)\n"
   ]
  },
  {
   "cell_type": "code",
   "execution_count": 73,
   "id": "63713523-e73a-4f07-873e-12f5573afa98",
   "metadata": {},
   "outputs": [
    {
     "name": "stdout",
     "output_type": "stream",
     "text": [
      "<class 'selenium.webdriver.remote.webelement.WebElement'>\n",
      "<class 'list'>\n",
      "250\n"
     ]
    }
   ],
   "source": [
    "# pega a lista (ul) que contém todas as séries\n",
    "tag_ul = driver.find_element(By.XPATH, r'//*[@id=\"__next\"]/main/div/div[3]/section/div/div[2]/div/ul')\n",
    "\n",
    "# pega todas as séries (li dentro da ul)\n",
    "lista_series = tag_ul.find_elements(By.TAG_NAME, \"li\")\n",
    "\n",
    "print(type(tag_ul)) # WebElement pra dar certo\n",
    "print(type(lista_series))    \n",
    "print(len(lista_series))     \n"
   ]
  },
  {
   "cell_type": "code",
   "execution_count": 74,
   "id": "c7ff66f3-2a2b-4783-a161-a9e20734a3cd",
   "metadata": {},
   "outputs": [
    {
     "name": "stdout",
     "output_type": "stream",
     "text": [
      "[{'titulo': '1. Breaking Bad', 'anos': '2008–2013', 'episodios': '62 episódios', 'classificacao': '16', 'nota': 9.5, 'link': 'https://www.imdb.com/pt/title/tt0903747/?ref_=chttvtp_i_1'}, {'titulo': '2. Planeta Terra II', 'anos': '2016', 'episodios': '6 episódios', 'classificacao': '10', 'nota': 9.4, 'link': 'https://www.imdb.com/pt/title/tt5491994/?ref_=chttvtp_i_2'}, {'titulo': '3. Planeta Terra', 'anos': '2006', 'episodios': '11 episódios', 'classificacao': 'Livre', 'nota': 9.4, 'link': 'https://www.imdb.com/pt/title/tt0795176/?ref_=chttvtp_i_3'}]\n"
     ]
    }
   ],
   "source": [
    "dados_series = []\n",
    "for serie in lista_series:\n",
    "    titulo = serie.find_element(By.TAG_NAME, \"h3\").text\n",
    "\n",
    "    # pega todos os spans de metadados\n",
    "    spans = serie.find_elements(By.CLASS_NAME, \"cli-title-metadata-item\")\n",
    "    anos, episodios, classificacao = None, None, None\n",
    "\n",
    "    if len(spans) > 0:\n",
    "        anos = spans[0].text.strip()  # ex: \"2008–2013\"\n",
    "    if len(spans) > 1:\n",
    "        episodios = spans[1].text.strip()  # ex: \"62 episódios\"\n",
    "    if len(spans) > 2:\n",
    "        classificacao = spans[2].text.strip()  # ex: \"16\"\n",
    "\n",
    "    nota = serie.find_element(By.CLASS_NAME, \"ipc-rating-star--rating\").text\n",
    "    link = serie.find_element(By.TAG_NAME, \"a\").get_attribute(\"href\")\n",
    "\n",
    "    dados_series.append({\n",
    "        \"titulo\": titulo,\n",
    "        \"anos\": anos,\n",
    "        \"episodios\": episodios,\n",
    "        \"classificacao\": classificacao,\n",
    "        \"nota\": float(nota.replace(\",\", \".\")),\n",
    "        \"link\": link\n",
    "    })\n",
    "print(dados_series[:3])  # Conferir os 3 primeiros\n"
   ]
  },
  {
   "cell_type": "markdown",
   "id": "31999f82-508e-4cb3-bdad-5477e92dbdf1",
   "metadata": {},
   "source": [
    "## Parte 2:\n",
    "- Faça scraping das páginas específicas dos 250 séries obtidos no item anterior. Obte-\n",
    "nha dessa página a popularidade e a listagem do elenco principal (incluindo nome do\n",
    "ator/atriz e da personagem e número de episódios que participou)."
   ]
  },
  {
   "cell_type": "code",
   "execution_count": 75,
   "id": "692b9631-c339-4929-a590-60b74b173946",
   "metadata": {},
   "outputs": [
    {
     "name": "stdout",
     "output_type": "stream",
     "text": [
      "{'titulo': 'Breaking Bad', 'anos': '2008–2013', 'episodios': 62, 'classificacao': 16, 'nota': 9.5, 'link': 'https://www.imdb.com/pt/title/tt0903747/?ref_=chttvtp_i_1', 'popularidade': 18, 'elenco_principal': [{'ator': 'Bryan Cranston', 'personagem': 'Walter White', 'episodios': 62}, {'ator': 'Aaron Paul', 'personagem': 'Jesse Pinkman', 'episodios': 62}, {'ator': 'Anna Gunn', 'personagem': 'Skyler White', 'episodios': 62}, {'ator': 'Betsy Brandt', 'personagem': 'Marie Schrader', 'episodios': 62}, {'ator': 'RJ Mitte', 'personagem': 'Walter White, Jr.', 'episodios': 62}, {'ator': 'Dean Norris', 'personagem': 'Hank Schrader', 'episodios': 62}, {'ator': 'Bob Odenkirk', 'personagem': 'Saul Goodman', 'episodios': 43}, {'ator': 'Steven Michael Quezada', 'personagem': 'Steven Gomez', 'episodios': 34}, {'ator': 'Jonathan Banks', 'personagem': 'Mike Ehrmantraut', 'episodios': 28}, {'ator': 'Giancarlo Esposito', 'personagem': 'Gus Fring', 'episodios': 26}, {'ator': 'Charles Baker', 'personagem': 'Skinny Pete', 'episodios': 15}, {'ator': 'Jesse Plemons', 'personagem': 'Todd', 'episodios': 13}, {'ator': 'Christopher Cousins', 'personagem': 'Ted Beneke', 'episodios': 13}, {'ator': 'Laura Fraser', 'personagem': 'Lydia Rodarte-Quayle', 'episodios': 12}, {'ator': 'Matt Jones', 'personagem': 'Badger', 'episodios': 12}, {'ator': 'Michael Shamus Wiles', 'personagem': 'ASAC George Merkert', 'episodios': 11}, {'ator': 'Lavell Crawford', 'personagem': 'Huell', 'episodios': 11}, {'ator': 'Ray Campbell', 'personagem': 'Tyrus Kitt', 'episodios': 10}]}\n"
     ]
    }
   ],
   "source": [
    "import json\n",
    "import time\n",
    "from selenium.webdriver.common.by import By\n",
    "import re\n",
    "\n",
    "detalhes_series = []\n",
    "\n",
    "for serie in dados_series:  \n",
    "    try:\n",
    "        driver.get(serie[\"link\"])\n",
    "        time.sleep(1.5)\n",
    "\n",
    "        # Popularidade \n",
    "        try:\n",
    "            popularidade = driver.find_element(\n",
    "                By.XPATH, \"//div[contains(@data-testid,'hero-rating-bar__popularity__score')]\"\n",
    "            ).text.strip()\n",
    "            popularidade = int(popularidade)\n",
    "        except:\n",
    "            popularidade = None\n",
    "\n",
    "        # Elenco principal \n",
    "        elenco = []\n",
    "        try:\n",
    "            elenco_blocos = driver.find_elements(By.XPATH, \"//div[@data-testid='title-cast-item']\")\n",
    "            for bloco in elenco_blocos:\n",
    "                # Ator\n",
    "                try:\n",
    "                    ator = bloco.find_element(By.XPATH, \".//a[@data-testid='title-cast-item__actor']\").text.strip()\n",
    "                except:\n",
    "                    ator = None\n",
    "\n",
    "                # Personagem\n",
    "                try:\n",
    "                    personagem = bloco.find_element(By.XPATH, \".//a[@data-testid='cast-item-characters-link']/span\").text.strip()\n",
    "                except:\n",
    "                    personagem = None\n",
    "\n",
    "                # Episódios\n",
    "                try:\n",
    "                    botoes_eps = bloco.find_elements(By.XPATH, \".//button[contains(@data-testid,'eps-toggle')]\")\n",
    "                    episodios_texto = botoes_eps[-1].text.strip() if botoes_eps else None\n",
    "                    episodios = int(re.search(r'\\d+', episodios_texto).group()) if episodios_texto else None\n",
    "                except:\n",
    "                    episodios = None\n",
    "\n",
    "                elenco.append({\n",
    "                    \"ator\": ator,\n",
    "                    \"personagem\": personagem,\n",
    "                    \"episodios\": episodios\n",
    "                })\n",
    "        except:\n",
    "            elenco = []\n",
    "\n",
    "        # Transformações título / classificacao / episodios\n",
    "        titulo = re.sub(r'^\\d+\\.\\s*', '', serie[\"titulo\"])\n",
    "        try:\n",
    "            classificacao = int(serie[\"classificacao\"])\n",
    "        except:\n",
    "            classificacao = serie[\"classificacao\"]\n",
    "\n",
    "        try:\n",
    "            episodios_serie = int(re.search(r'\\d+', serie[\"episodios\"]).group())\n",
    "        except:\n",
    "            episodios_serie = None\n",
    "\n",
    "        serie_detalhes = {\n",
    "            \"titulo\": titulo,\n",
    "            \"anos\": serie[\"anos\"],\n",
    "            \"episodios\": episodios_serie,\n",
    "            \"classificacao\": classificacao,\n",
    "            \"nota\": float(serie[\"nota\"]),\n",
    "            \"link\": serie[\"link\"],\n",
    "            \"popularidade\": popularidade,\n",
    "            \"elenco_principal\": elenco\n",
    "        }\n",
    "\n",
    "        detalhes_series.append(serie_detalhes)\n",
    "\n",
    "    except Exception as e:\n",
    "        print(f\"Erro ao processar {serie['titulo']}: {e}\")\n",
    "        continue\n",
    "\n",
    "print(detalhes_series[0])"
   ]
  },
  {
   "cell_type": "markdown",
   "id": "2422596b-fc43-4503-a8e6-91cb6416fea0",
   "metadata": {},
   "source": [
    "## Parte 3:\n",
    "- Salve as informações obtidas em um arquivo json. Tome cuidado para aplicar as trans-\n",
    "formações necessárias nos dados extraídos (remover números do título, conversão de\n",
    "números inteiros e reais para os devidos tipos)."
   ]
  },
  {
   "cell_type": "code",
   "execution_count": 76,
   "id": "b1fd1647-66fb-4b2a-996d-430fdd0412a9",
   "metadata": {},
   "outputs": [],
   "source": [
    "with open(\"data/series_detalhes.json\", \"w\", encoding=\"utf-8\") as f:\n",
    "    json.dump(detalhes_series, f, ensure_ascii=False, indent=4)\n"
   ]
  }
 ],
 "metadata": {
  "kernelspec": {
   "display_name": "Python 3 (ipykernel)",
   "language": "python",
   "name": "python3"
  },
  "language_info": {
   "codemirror_mode": {
    "name": "ipython",
    "version": 3
   },
   "file_extension": ".py",
   "mimetype": "text/x-python",
   "name": "python",
   "nbconvert_exporter": "python",
   "pygments_lexer": "ipython3",
   "version": "3.12.11"
  }
 },
 "nbformat": 4,
 "nbformat_minor": 5
}
